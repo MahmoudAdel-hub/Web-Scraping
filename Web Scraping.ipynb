{
 "cells": [
  {
   "cell_type": "markdown",
   "id": "5f27cd01",
   "metadata": {
    "slideshow": {
     "slide_type": "slide"
    }
   },
   "source": [
    "# Import Libraries"
   ]
  },
  {
   "cell_type": "code",
   "execution_count": 103,
   "id": "3e8f85ec",
   "metadata": {
    "slideshow": {
     "slide_type": "subslide"
    }
   },
   "outputs": [],
   "source": [
    "import requests\n",
    "from bs4 import BeautifulSoup\n",
    "import re\n",
    "import pandas as pd"
   ]
  },
  {
   "cell_type": "markdown",
   "id": "477b58e9",
   "metadata": {
    "slideshow": {
     "slide_type": "slide"
    }
   },
   "source": [
    "# Take Request From The Website"
   ]
  },
  {
   "cell_type": "code",
   "execution_count": 118,
   "id": "c55c05d5",
   "metadata": {
    "slideshow": {
     "slide_type": "subslide"
    }
   },
   "outputs": [],
   "source": [
    "First_page=requests.get('https://www.imdb.com/search/title/?groups=top_100&sort=user_rating,desc')"
   ]
  },
  {
   "cell_type": "markdown",
   "id": "13816c37",
   "metadata": {
    "slideshow": {
     "slide_type": "slide"
    }
   },
   "source": [
    "# Write Contents of Website "
   ]
  },
  {
   "cell_type": "code",
   "execution_count": 101,
   "id": "e381a25e",
   "metadata": {
    "slideshow": {
     "slide_type": "subslide"
    }
   },
   "outputs": [],
   "source": [
    "with open('file.html',mode='wb') as file:\n",
    "    file.write(First_page.content)"
   ]
  },
  {
   "cell_type": "markdown",
   "id": "c07637d9",
   "metadata": {
    "slideshow": {
     "slide_type": "slide"
    }
   },
   "source": [
    "# Open Contents of Website Using BeautifulSoup"
   ]
  },
  {
   "cell_type": "code",
   "execution_count": 102,
   "id": "d8b5235e",
   "metadata": {
    "slideshow": {
     "slide_type": "subslide"
    }
   },
   "outputs": [],
   "source": [
    "with open('file.html') as file :\n",
    "    file_content=BeautifulSoup(file,'lxml')"
   ]
  },
  {
   "cell_type": "markdown",
   "id": "e432b361",
   "metadata": {
    "slideshow": {
     "slide_type": "slide"
    }
   },
   "source": [
    "# Extract Data "
   ]
  },
  {
   "cell_type": "code",
   "execution_count": 115,
   "id": "3318a574",
   "metadata": {
    "slideshow": {
     "slide_type": "subslide"
    }
   },
   "outputs": [],
   "source": [
    "titles=[]\n",
    "years=[]\n",
    "rank=[]\n",
    "votes=[]\n",
    "gross=[]\n",
    "genre=[]\n",
    "duration_in_minutes=[]\n",
    "for _ in range(len(file_content.find_all('h3','lister-item-header'))):\n",
    "    genre.append(\n",
    "        re.findall(r'(\\w+)',file_content.find_all('span','genre')[_].contents[0]))\n",
    "    duration_in_minutes.append(\n",
    "        re.search(r'(\\d+)',file_content.find_all('span','runtime')[_].contents[0]).group())\n",
    "    gross.append(\n",
    "        file_content.find_all('p','sort-num_votes-visible')[_].contents[9]['data-value'])\n",
    "    votes.append(\n",
    "        file_content.find_all('p','sort-num_votes-visible')[_].contents[3].contents[0])\n",
    "    titles.append(\n",
    "        file_content.find_all('h3','lister-item-header')[_].find('a').contents[0])\n",
    "    years.append(\n",
    "        re.search(r'(\\d+)',file_content.find_all('h3','lister-item-header')[_].find('span','lister-item-year text-muted unbold').contents[0]).group())\n",
    "    rank.append(\n",
    "        re.search(r'(\\d+)',file_content.find_all('h3','lister-item-header')[_].find('span',\"lister-item-index unbold text-primary\").contents[0]).group())"
   ]
  },
  {
   "cell_type": "markdown",
   "id": "4d64c800",
   "metadata": {
    "slideshow": {
     "slide_type": "slide"
    }
   },
   "source": [
    "# Convert To Dictionary"
   ]
  },
  {
   "cell_type": "code",
   "execution_count": 116,
   "id": "574b3d61",
   "metadata": {
    "slideshow": {
     "slide_type": "subslide"
    }
   },
   "outputs": [],
   "source": [
    "top50movies={\n",
    "    'rank':rank,\n",
    "    'titles':titles,\n",
    "    'years':years,\n",
    "    'votes':votes,\n",
    "    'gross_in_dollar':gross,\n",
    "    'genre':genre,\n",
    "    'duration_in_minutes':duration_in_minutes\n",
    "    \n",
    "}"
   ]
  },
  {
   "cell_type": "markdown",
   "id": "4c4c5855",
   "metadata": {
    "slideshow": {
     "slide_type": "slide"
    }
   },
   "source": [
    "# Convert Dictionary To DataFrame"
   ]
  },
  {
   "cell_type": "code",
   "execution_count": 130,
   "id": "4ac6b4ec",
   "metadata": {
    "slideshow": {
     "slide_type": "subslide"
    }
   },
   "outputs": [
    {
     "data": {
      "text/html": [
       "<div>\n",
       "<style scoped>\n",
       "    .dataframe tbody tr th:only-of-type {\n",
       "        vertical-align: middle;\n",
       "    }\n",
       "\n",
       "    .dataframe tbody tr th {\n",
       "        vertical-align: top;\n",
       "    }\n",
       "\n",
       "    .dataframe thead th {\n",
       "        text-align: right;\n",
       "    }\n",
       "</style>\n",
       "<table border=\"1\" class=\"dataframe\">\n",
       "  <thead>\n",
       "    <tr style=\"text-align: right;\">\n",
       "      <th></th>\n",
       "      <th>rank</th>\n",
       "      <th>titles</th>\n",
       "      <th>years</th>\n",
       "      <th>votes</th>\n",
       "      <th>gross_in_dollar</th>\n",
       "      <th>genre</th>\n",
       "      <th>duration_in_minutes</th>\n",
       "    </tr>\n",
       "  </thead>\n",
       "  <tbody>\n",
       "    <tr>\n",
       "      <th>0</th>\n",
       "      <td>1</td>\n",
       "      <td>The Shawshank Redemption</td>\n",
       "      <td>1994</td>\n",
       "      <td>2,695,887</td>\n",
       "      <td>28,341,469</td>\n",
       "      <td>[Drama]</td>\n",
       "      <td>142</td>\n",
       "    </tr>\n",
       "    <tr>\n",
       "      <th>1</th>\n",
       "      <td>2</td>\n",
       "      <td>The Godfather</td>\n",
       "      <td>1972</td>\n",
       "      <td>1,870,922</td>\n",
       "      <td>134,966,411</td>\n",
       "      <td>[Crime, Drama]</td>\n",
       "      <td>175</td>\n",
       "    </tr>\n",
       "  </tbody>\n",
       "</table>\n",
       "</div>"
      ],
      "text/plain": [
       "  rank                    titles years      votes gross_in_dollar  \\\n",
       "0    1  The Shawshank Redemption  1994  2,695,887      28,341,469   \n",
       "1    2             The Godfather  1972  1,870,922     134,966,411   \n",
       "\n",
       "            genre duration_in_minutes  \n",
       "0         [Drama]                 142  \n",
       "1  [Crime, Drama]                 175  "
      ]
     },
     "execution_count": 130,
     "metadata": {},
     "output_type": "execute_result"
    }
   ],
   "source": [
    "df=pd.DataFrame(top50movies)\n",
    "df.head(2)"
   ]
  },
  {
   "cell_type": "code",
   "execution_count": null,
   "id": "73fa0ae5",
   "metadata": {},
   "outputs": [],
   "source": []
  },
  {
   "cell_type": "markdown",
   "id": "365a710b",
   "metadata": {
    "slideshow": {
     "slide_type": "fragment"
    }
   },
   "source": [
    "# &nbsp; &nbsp; &nbsp; &nbsp; &nbsp; &nbsp; &nbsp; &nbsp; &nbsp; &nbsp; &nbsp; &nbsp; &nbsp; &nbsp; &nbsp; &nbsp;&nbsp; &nbsp; &nbsp; &nbsp;&nbsp; &nbsp; &nbsp; &nbsp;&nbsp; &nbsp; &nbsp; &nbsp;&nbsp; &nbsp; &nbsp; &nbsp;&nbsp; &nbsp; &nbsp; &nbsp;&nbsp; &nbsp; &nbsp; &nbsp; &nbsp;Thank You"
   ]
  },
  {
   "cell_type": "code",
   "execution_count": null,
   "id": "e0f7a76b",
   "metadata": {},
   "outputs": [],
   "source": []
  }
 ],
 "metadata": {
  "celltoolbar": "Slideshow",
  "kernelspec": {
   "display_name": "Python 3 (ipykernel)",
   "language": "python",
   "name": "python3"
  },
  "language_info": {
   "codemirror_mode": {
    "name": "ipython",
    "version": 3
   },
   "file_extension": ".py",
   "mimetype": "text/x-python",
   "name": "python",
   "nbconvert_exporter": "python",
   "pygments_lexer": "ipython3",
   "version": "3.10.5"
  },
  "vp": {
   "vp_config_version": "1.0.0",
   "vp_menu_width": 273,
   "vp_note_display": false,
   "vp_note_width": 0,
   "vp_position": {
    "width": 278
   },
   "vp_section_display": false,
   "vp_signature": "VisualPython"
  }
 },
 "nbformat": 4,
 "nbformat_minor": 5
}
